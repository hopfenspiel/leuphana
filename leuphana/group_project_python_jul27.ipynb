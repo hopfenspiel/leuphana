{
 "cells": [
  {
   "cell_type": "code",
   "execution_count": 1,
   "metadata": {
    "collapsed": true
   },
   "outputs": [],
   "source": [
    "from igraph import *\n",
    "import pandas as pd\n",
    "import numpy as np"
   ]
  },
  {
   "cell_type": "code",
   "execution_count": 4,
   "metadata": {},
   "outputs": [],
   "source": [
    "import os\n",
    "cwd = os.getcwd()\n",
    "\n",
    "covs = pd.read_csv('C:/users/5SQQJ72/Documents/leuphana/semester_2/network_analysis/group_project/cover_data_files/covRelations.csv')\n",
    "del covs['Unnamed: 0']\n",
    "\n",
    "covs['ones'] = 1"
   ]
  },
  {
   "cell_type": "code",
   "execution_count": 5,
   "metadata": {
    "collapsed": true
   },
   "outputs": [],
   "source": [
    "covs_count = covs.groupby('org_art_id')['ones'].sum()\n",
    "covs_count = covs_count[covs_count > 3].reset_index()"
   ]
  },
  {
   "cell_type": "code",
   "execution_count": 6,
   "metadata": {},
   "outputs": [
    {
     "name": "stderr",
     "output_type": "stream",
     "text": [
      "C:\\Users\\5SQQJ72\\Miniconda3\\lib\\site-packages\\ipykernel_launcher.py:7: SettingWithCopyWarning: \n",
      "A value is trying to be set on a copy of a slice from a DataFrame.\n",
      "Try using .loc[row_indexer,col_indexer] = value instead\n",
      "\n",
      "See the caveats in the documentation: http://pandas.pydata.org/pandas-docs/stable/indexing.html#indexing-view-versus-copy\n",
      "  import sys\n",
      "C:\\Users\\5SQQJ72\\Miniconda3\\lib\\site-packages\\ipykernel_launcher.py:8: SettingWithCopyWarning: \n",
      "A value is trying to be set on a copy of a slice from a DataFrame.\n",
      "Try using .loc[row_indexer,col_indexer] = value instead\n",
      "\n",
      "See the caveats in the documentation: http://pandas.pydata.org/pandas-docs/stable/indexing.html#indexing-view-versus-copy\n",
      "  \n"
     ]
    }
   ],
   "source": [
    "covs_rev = covs[covs['org_art_id'].isin(covs_count['org_art_id'])]\n",
    "\n",
    "made_covs_count = covs.groupby('cov_art_id')['ones'].sum()\n",
    "made_covs_count = made_covs_count[made_covs_count > 1].reset_index()\n",
    "\n",
    "covs_rev_2 = covs_rev[covs_rev['cov_art_id'].isin(made_covs_count['cov_art_id'])]\n",
    "covs_rev_2['release_decade'] = (covs_rev_2['org_release_year'].astype('str').str[:3] + '0').astype(int)\n",
    "covs_rev_2['perf_decade'] = (covs_rev_2['perf_year'].astype('str').str[:3] + '0').astype(int)\n",
    "\n",
    "covs_rev_2 = covs_rev_2[(covs_rev_2.release_decade >= 1960) & (covs_rev_2.release_decade <= 1995)]\n",
    "\n",
    "orgs1960 = covs_rev_2[covs_rev_2.release_decade == 1960]\n",
    "orgs1970 = covs_rev_2[covs_rev_2.release_decade == 1970]\n",
    "orgs1980 = covs_rev_2[covs_rev_2.release_decade == 1980]\n",
    "\n",
    "covs1990 = covs_rev_2[covs_rev_2.perf_decade == 1990]\n",
    "\n",
    "unique1980 = orgs1980['org_art_id'].unique()\n",
    "\n",
    "covs1990 = covs1990[covs1990.org_art_id.isin(unique1980)]"
   ]
  },
  {
   "cell_type": "code",
   "execution_count": 7,
   "metadata": {
    "collapsed": true
   },
   "outputs": [],
   "source": [
    "arts = orgs1980[['org_art_id','cov_art_id']].reset_index()\n",
    "arts = arts.iloc[:,1:]\n",
    "arts_unique = arts.groupby(['org_art_id','cov_art_id']).size().reset_index()\n",
    "arts_unique = arts_unique.iloc[:,0:2]"
   ]
  },
  {
   "cell_type": "code",
   "execution_count": 8,
   "metadata": {
    "collapsed": true
   },
   "outputs": [],
   "source": [
    "vertices = pd.concat([arts['org_art_id'], arts['cov_art_id']], axis=0).unique()\n",
    "vertices = pd.DataFrame(vertices).reset_index()\n",
    "vertices.columns = ['v_no','art_id']"
   ]
  },
  {
   "cell_type": "code",
   "execution_count": 9,
   "metadata": {
    "collapsed": true
   },
   "outputs": [],
   "source": [
    "edge1 = vertices.merge(arts, left_on = 'art_id', right_on = 'org_art_id', how='inner')\n",
    "edge2 = vertices.merge(edge1, left_on = 'art_id', right_on = 'cov_art_id', how='right')\n",
    "edge2 = edge2.iloc[:,:4]\n",
    "edge2.columns = ['cov_v','cov_art_id','org_v','org_art_id']\n",
    "edgelist = edge2[['cov_v','org_v']]\n",
    "\n",
    "el = edgelist.values.tolist()"
   ]
  },
  {
   "cell_type": "code",
   "execution_count": 10,
   "metadata": {
    "collapsed": true
   },
   "outputs": [],
   "source": [
    "cov_graph = Graph(n=len(vertices), directed=True, vertex_attrs={'name': vertices.art_id})\n",
    "#cov_graph.add_vertices(vertices)\n",
    "cov_graph.add_edges(el)"
   ]
  },
  {
   "cell_type": "code",
   "execution_count": 11,
   "metadata": {},
   "outputs": [
    {
     "name": "stdout",
     "output_type": "stream",
     "text": [
      "total vertices: 11817\n"
     ]
    }
   ],
   "source": [
    "n = cov_graph.vcount()\n",
    "print('total vertices:', n)\n",
    "neighbs = [v.neighbors('out') for v in cov_graph.vs]"
   ]
  },
  {
   "cell_type": "code",
   "execution_count": 12,
   "metadata": {
    "collapsed": true
   },
   "outputs": [],
   "source": [
    "score_pa = np.zeros(shape = (n, n))\n",
    "for i, x in enumerate(neighbs):\n",
    "    for j, y in enumerate(neighbs):\n",
    "        score_pa[i,j] = len(x) * len(y)"
   ]
  },
  {
   "cell_type": "code",
   "execution_count": 26,
   "metadata": {
    "collapsed": true,
    "scrolled": true
   },
   "outputs": [],
   "source": [
    "comm_neighbs = np.zeros(shape = (n,n))\n",
    "for i, x in enumerate(neighbs):\n",
    "    for j, y in enumerate(neighbs):\n",
    "        comm_neighbs[i,j] = len(set(x) & set(y))"
   ]
  },
  {
   "cell_type": "code",
   "execution_count": 30,
   "metadata": {},
   "outputs": [],
   "source": [
    "jaccard_coeff = np.zeros(shape = (n,n))\n",
    "for i, x in enumerate(neighbs):\n",
    "    for j, y in enumerate(neighbs):\n",
    "        inters = (len( set(x) | set(y) ))\n",
    "        if inters == 0:\n",
    "            jaccard_coeff[i,j] = 0\n",
    "        else:\n",
    "            jaccard_coeff[i,j] = len(set(x) & set(y)) / (inters)"
   ]
  },
  {
   "cell_type": "code",
   "execution_count": 33,
   "metadata": {
    "collapsed": true
   },
   "outputs": [],
   "source": [
    "salton_cos = np.zeros(shape = (n, n))\n",
    "for i, x in enumerate(neighbs):\n",
    "    for j, y in enumerate(neighbs):\n",
    "        cos = ( np.sqrt( len(x) * len(y) ) ) \n",
    "        if cos == 0:\n",
    "            salton_cos[i,j] = 0\n",
    "        else:\n",
    "            salton_cos[i,j] = len(set(x) & set(y)) / (cos) "
   ]
  },
  {
   "cell_type": "code",
   "execution_count": null,
   "metadata": {
    "collapsed": true
   },
   "outputs": [],
   "source": []
  }
 ],
 "metadata": {
  "kernelspec": {
   "display_name": "Python 3",
   "language": "python",
   "name": "python3"
  },
  "language_info": {
   "codemirror_mode": {
    "name": "ipython",
    "version": 3
   },
   "file_extension": ".py",
   "mimetype": "text/x-python",
   "name": "python",
   "nbconvert_exporter": "python",
   "pygments_lexer": "ipython3",
   "version": "3.6.1"
  }
 },
 "nbformat": 4,
 "nbformat_minor": 2
}
